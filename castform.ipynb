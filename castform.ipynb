{
 "cells": [
  {
   "cell_type": "code",
   "execution_count": 3,
   "metadata": {},
   "outputs": [],
   "source": [
    "import pandas as pd\n",
    "import pickle as pkl\n",
    "import math\n",
    "import matplotlib.pyplot as plt\n",
    "import seaborn as sns\n",
    "import numpy as np\n",
    "\n",
    "sns.set(style = \"darkgrid\")"
   ]
  },
  {
   "cell_type": "code",
   "execution_count": null,
   "metadata": {},
   "outputs": [],
   "source": [
    "'''\n",
    "!pip install pandas\n",
    "!pip install seaborn\n",
    "!pip install fsspec\n",
    "!pip install s3fs\n",
    "!pip install boto\n",
    "'''"
   ]
  },
  {
   "cell_type": "markdown",
   "metadata": {},
   "source": [
    "### pkmgo feature\n",
    "\n",
    "- appearedHour (c)\n",
    "- appearedTimeOfDay (c)\n",
    "- appearedDayOfWeek (c)\n",
    "- appearedMonth (c)\n",
    "- terrainType (c)\n",
    "- closeToWater (01)\n",
    "- weather (c)\n",
    "\n",
    "- temperature (n)\n",
    "- windSpeed (n)\n",
    "- windBearing (n)\n",
    "- pressure (n)\n",
    "- sunriseMinutesMidnight (n)\n",
    "- population density (n)\n",
    "- urban-rural (c)\n",
    "- gymDistanceKm (n)\n",
    "- pokestopDistanceKm (n)\n",
    "\n",
    "- coocc_xxx (b)"
   ]
  },
  {
   "cell_type": "markdown",
   "metadata": {},
   "source": [
    "### description\n",
    "- pokemonId - the identifier of a pokemon, should be deleted to not affect predictions. (numeric; ranges between 1 and 151)\n",
    "- latitude, longitude - coordinates of a sighting (numeric)\n",
    "- appearedLocalTime - exact time of a sighting in format yyyy-mm-dd'T'hh-mm-ss.ms'Z' (nominal)\n",
    "- cellId 90-5850m - geographic position projected on a S2 Cell, with cell sizes ranging from 90 to 5850m (numeric)\n",
    "- appearedTimeOfDay - time of the day of a sighting (night, evening, afternoon, morning)\n",
    "- appearedHour/appearedMinute - local hour/minute of a sighting (numeric)\n",
    "- appearedDayOfWeek - week day of a sighting (Monday, Tuesday, Wednesday, Thursday, Friday, Saturday, Sunday)\n",
    "- appearedDay/appearedMonth/appearedYear - day/month/year of a sighting (numeric)\n",
    "- terrainType - terrain where pokemon appeared described with help of GLCF Modis Land Cover (numeric)\n",
    "- closeToWater - did pokemon appear close (100m or less) to water (Boolean, same source as above)\n",
    "- city - the city of a sighting (nominal)\n",
    "- continent (not always parsed right) - the continent of a sighting (nominal)\n",
    "- weather - weather type during a sighting (Foggy Clear, PartlyCloudy, MostlyCloudy, Overcast, Rain, BreezyandOvercast, LightRain, Drizzle, BreezyandPartlyCloudy, HeavyRain, BreezyandMostlyCloudy, Breezy, Windy, WindyandFoggy, Humid, Dry, WindyandPartlyCloudy, DryandMostlyCloudy, DryandPartlyCloudy, DrizzleandBreezy, LightRainandBreezy, HumidandPartlyCloudy, HumidandOvercast, RainandWindy) // Source for all weather features\n",
    "- temperature - temperature in celsius at the location of a sighting (numeric)\n",
    "- windSpeed - speed of the wind in km/h at the location of a sighting (numeric)\n",
    "- windBearing - wind direction (numeric)\n",
    "- pressure - atmospheric pressure in bar at the location of a sighting (numeric)\n",
    "- weatherIcon - a compact representation of the weather at the location of a sighting (fog, clear-night, partly-cloudy-night, partly-cloudy-day, cloudy, clear-day, rain, wind)\n",
    "- sunriseMinutesMidnight-sunsetMinutesBefore - time of appearance relatively to sunrise/sunset Source\n",
    "- population density - what is the population density per square km of a sighting (numeric, Source)\n",
    "- urban-rural - how urban is location where pokemon appeared (Boolean, built on Population density, <200 for rural, >=200 and <400 for midUrban, >=400 and <800 for subUrban, >800 for urban)\n",
    "- gymDistanceKm, pokestopDistanceKm - how far is the nearest gym/pokestop in km from a sighting? (numeric, extracted from this dataset)\n",
    "- gymIn100m-pokestopIn5000m - is there a gym/pokestop in 100/200/etc meters? (Boolean)\n",
    "- cooc 1-cooc 151 - co-occurrence with any other pokemon (pokemon ids range between 1 and 151) within 100m distance and within the last 24 hours (Boolean)\n",
    "- class - says which pokemonId it is, to be predicted."
   ]
  },
  {
   "cell_type": "markdown",
   "metadata": {},
   "source": [
    "### pkmdex feature\n",
    "- Stamina (n)\n",
    "- Attack (n)\n",
    "- Defense (n)\n",
    "\n",
    "- type x19 (b) \n",
    "\n",
    "- MaxHP (n)\n",
    "- Capture_rate (n/c)\n",
    "- Escape_rate (n/c)\n",
    "- Weight (n)\n",
    "- Height (n)\n",
    "- Legendary (b)\n",
    "- MaxCP (n)"
   ]
  },
  {
   "cell_type": "code",
   "execution_count": 5,
   "metadata": {},
   "outputs": [],
   "source": [
    "pkmdex = pd.read_csv('data/pkmdex.csv')[:151]\n",
    "types = set(pkmdex.Primary).union(set(pkmdex.Secondary))\n",
    "types.remove('None')\n",
    "for t in types:\n",
    "    pkmdex[t] = False\n",
    "    for i, r in pkmdex.iterrows():\n",
    "        pkmdex.at[i, t] = (t == r.Primary) or ( t == r.Secondary)"
   ]
  },
  {
   "cell_type": "code",
   "execution_count": 6,
   "metadata": {},
   "outputs": [
    {
     "name": "stderr",
     "output_type": "stream",
     "text": [
      "c:\\Users\\martin.ranieri\\Downloads\\spawn-em-all-manzi-2022\\manzi\\lib\\site-packages\\IPython\\core\\interactiveshell.py:3251: DtypeWarning: Columns (49) have mixed types.Specify dtype option on import or set low_memory=False.\n",
      "  exec(code_obj, self.user_global_ns, self.user_ns)\n"
     ]
    }
   ],
   "source": [
    "pkmgo = pd.read_csv('data/pkmgo.csv')"
   ]
  },
  {
   "cell_type": "code",
   "execution_count": null,
   "metadata": {},
   "outputs": [],
   "source": [
    "#\"', '\".join(df.columns)\n",
    "_ = [\n",
    "'Name', 'Pokedex', 'pokemonId', 'class', 'Generation',\n",
    "\n",
    "'Stamina', 'Attack', 'Defense', 'MaxHP', 'MaxCP',\n",
    "\n",
    "'Primary', 'Secondary',\n",
    "\n",
    "'Capture_rate', 'Escape_rate', 'Legendary',\n",
    "\n",
    "'Weight', 'Height',\n",
    "\n",
    "# stamp\n",
    "'latitude', 'longitude', 'appearedLocalTime', '_id',\n",
    "\n",
    "# S2 SYSTEM\n",
    "'cellId_90m', 'cellId_180m', 'cellId_370m', 'cellId_730m', 'cellId_1460m', 'cellId_2920m', 'cellId_5850m',\n",
    "\n",
    "# time\n",
    "'appearedTimeOfDay', 'appearedHour', 'appearedMinute', 'appearedDayOfWeek', 'appearedDay', 'appearedMonth', 'appearedYear',\n",
    "\n",
    "# field\n",
    "'terrainType', 'closeToWater',\n",
    "\n",
    "# info (2)\n",
    "'city', 'continent',\n",
    "\n",
    "#weather\n",
    "'weather', 'temperature', 'windSpeed', 'windBearing', 'pressure', 'weatherIcon',\n",
    "\n",
    "# sun (season)\n",
    "'sunriseMinutesMidnight', 'sunriseHour', 'sunriseMinute', 'sunriseMinutesSince',\n",
    "'sunsetMinutesMidnight', 'sunsetHour', 'sunsetMinute', 'sunsetMinutesBefore',\n",
    "\n",
    "'population_density', # pop\n",
    "'urban', 'suburban', 'midurban', 'rural',\n",
    "\n",
    "'gymDistanceKm', # gym\n",
    "'gymIn100m', 'gymIn250m', 'gymIn500m', 'gymIn1000m', 'gymIn2500m', 'gymIn5000m',\n",
    "\n",
    "'pokestopDistanceKm', # spot\n",
    "'pokestopIn100m', 'pokestopIn250m', 'pokestopIn500m', 'pokestopIn1000m', 'pokestopIn2500m', 'pokestopIn5000m'\n",
    "]"
   ]
  },
  {
   "cell_type": "code",
   "execution_count": 7,
   "metadata": {},
   "outputs": [],
   "source": [
    "cstat = ['Stamina', 'Attack', 'Defense', 'MaxHP', 'MaxCP', 'Capture_rate', 'Escape_rate', 'Weight', 'Height', ]\n",
    "czone = ['temperature', 'windSpeed', 'pressure', 'pokestopDistanceKm', 'gymDistanceKm', 'population_density',]\n",
    "ccooc = [f'{t}_x' for t in types] # co-occurrence magnitude\n",
    "ctype = [f'{t}_y' for t in types] # dex type"
   ]
  },
  {
   "cell_type": "code",
   "execution_count": 8,
   "metadata": {},
   "outputs": [],
   "source": [
    "def mg(row):\n",
    "    cooc_table = row[tmpl]\n",
    "    cooc_table.rename(index=tmpd, inplace=True)\n",
    "    return tmpt[cooc_table].sum()"
   ]
  },
  {
   "cell_type": "code",
   "execution_count": 9,
   "metadata": {},
   "outputs": [],
   "source": [
    "tmpl = [f'cooc_{i}' for i in range(1,152)]\n",
    "tmpd = { f'cooc_{i}':i for i in range(1,152)}\n",
    "tmpt = pkmdex.set_index('Pokedex')[types]\n",
    "tt = list(types)"
   ]
  },
  {
   "cell_type": "code",
   "execution_count": 10,
   "metadata": {},
   "outputs": [],
   "source": [
    "# 9.5 minutes\n",
    "if False:\n",
    "    pkmgo[tt] = pkmgo.apply(lambda row: mg(row), axis=1)\n",
    "    pkl.dump(pkmgo, open('data/pkmgo.pkl', 'wb'))\n",
    "else:\n",
    "    pkmgo = pkl.load(open('data/pkmgo.pkl', 'rb'))"
   ]
  },
  {
   "cell_type": "code",
   "execution_count": 11,
   "metadata": {},
   "outputs": [],
   "source": [
    "df = pd.merge(pkmgo, pkmdex, how='left', left_on='pokemonId', right_on= 'Pokedex')"
   ]
  },
  {
   "cell_type": "code",
   "execution_count": 12,
   "metadata": {},
   "outputs": [],
   "source": [
    "# cleaning stuff\n",
    "df = df[df.population_density != 0]\n",
    "df = df[df.pokestopDistanceKm != '?']\n",
    "\n",
    "# categorizing stuff\n",
    "df['log_pd'] = df.population_density.apply(lambda x: int(math.log(x+1,10))+1)"
   ]
  },
  {
   "cell_type": "markdown",
   "metadata": {},
   "source": [
    "### bayesian network"
   ]
  },
  {
   "cell_type": "code",
   "execution_count": null,
   "metadata": {},
   "outputs": [],
   "source": [
    "from pgmpy.estimators import ParameterEstimator\n",
    "from pgmpy.models import BayesianNetwork\n",
    "from pgmpy.estimators import MaximumLikelihoodEstimator\n",
    "from pgmpy.estimators import ExhaustiveSearch"
   ]
  },
  {
   "cell_type": "code",
   "execution_count": null,
   "metadata": {},
   "outputs": [],
   "source": [
    "inlist = [\n",
    "    #'appearedHour',\n",
    "    'appearedDayOfWeek',\n",
    "    #'appearedMonth',\n",
    "    #'terrainType',\n",
    "    'closeToWater',\n",
    "    #'weather',\n",
    "    'weatherIcon',\n",
    "    #'urban', 'suburban', 'midurban', 'rural',\n",
    "]\n",
    "\n",
    "outlist = list(types)"
   ]
  },
  {
   "cell_type": "code",
   "execution_count": null,
   "metadata": {},
   "outputs": [],
   "source": [
    "model = BayesianNetwork([(i, o) for i in inlist for o in outlist])\n",
    "\n",
    "pe = ParameterEstimator(model, df.astype('string'))\n",
    "mle = MaximumLikelihoodEstimator(model, df.astype('string'))\n",
    "\n",
    "model.fit(df.astype('string'), estimator=MaximumLikelihoodEstimator)"
   ]
  },
  {
   "cell_type": "code",
   "execution_count": null,
   "metadata": {},
   "outputs": [],
   "source": [
    "'''\n",
    "print(\"\\n\", pe.state_counts('closeToWater'))  # unconditional\n",
    "print(\"\\n\", pe.state_counts('class'))  # conditional\n",
    "print(mle.estimate_cpd('closeToWater'))  # unconditional\n",
    "print(mle.estimate_cpd('class'))  # conditional\n",
    "#'''"
   ]
  },
  {
   "cell_type": "code",
   "execution_count": null,
   "metadata": {},
   "outputs": [],
   "source": [
    "es = ExhaustiveSearch(df[inlist+outlist]) #, scoring_method='bic')\n",
    "best_model = es.estimate()\n",
    "print(best_model.edges())\n",
    "\n",
    "print(\"\\nAll DAGs by score:\")\n",
    "for score, dag in reversed(es.all_scores()):\n",
    "    print(score, dag.edges())"
   ]
  },
  {
   "cell_type": "markdown",
   "metadata": {},
   "source": [
    "### principal component analysis"
   ]
  },
  {
   "cell_type": "code",
   "execution_count": null,
   "metadata": {},
   "outputs": [],
   "source": [
    "from sklearn.decomposition import PCA\n",
    "from sklearn.preprocessing import StandardScaler\n",
    "from mpl_toolkits.mplot3d import Axes3D"
   ]
  },
  {
   "cell_type": "code",
   "execution_count": null,
   "metadata": {},
   "outputs": [],
   "source": [
    "def do_pca():\n",
    "    pca = PCA(n_components=d)\n",
    "    pc = pca.fit_transform(x)\n",
    "    pc_df = pd.DataFrame(data = pc, columns = [f'pc{i+1}' for i in range(d)])\n",
    "    pch_df = pd.concat([pc_df, df[huef]], axis = 1)\n",
    "    sns.scatterplot(data=pc_df, x=\"pc1\", y=\"pc2\")\n",
    "    return pc_df"
   ]
  },
  {
   "cell_type": "code",
   "execution_count": null,
   "metadata": {},
   "outputs": [],
   "source": [
    "features = ['Stamina', 'Attack', 'Defense', 'MaxHP', 'MaxCP',] + list(types)\n",
    "huef = 'Weight'\n",
    "d = 2\n",
    "\n",
    "x = pkmdex.loc[:, features].values\n",
    "y = pkmdex.loc[:, huef].values\n",
    "x = StandardScaler().fit_transform(x)\n",
    "xp = do_pca()"
   ]
  },
  {
   "cell_type": "code",
   "execution_count": null,
   "metadata": {},
   "outputs": [],
   "source": [
    "# 3D stuff\n",
    "'''%matplotlib widget\n",
    "fig = plt.figure()\n",
    "ax = fig.add_subplot(111, projection = '3d')\n",
    "\n",
    "x = pc_df['pc1']\n",
    "y = pc_df['pc2']\n",
    "z = pc_df['pc3']\n",
    "\n",
    "ax.scatter(x, y, z)\n",
    "\n",
    "plt.show()'''"
   ]
  },
  {
   "cell_type": "code",
   "execution_count": null,
   "metadata": {},
   "outputs": [],
   "source": [
    "features = ['temperature', 'windSpeed', 'pressure', 'population_density']\n",
    "huef = 'Weight'\n",
    "d = 2\n",
    "\n",
    "x = df.loc[:, features].values\n",
    "y = df.loc[:, huef].values\n",
    "x = StandardScaler().fit_transform(x)\n",
    "do_pca()"
   ]
  },
  {
   "cell_type": "markdown",
   "metadata": {},
   "source": [
    "DB SCAN"
   ]
  },
  {
   "cell_type": "code",
   "execution_count": null,
   "metadata": {},
   "outputs": [],
   "source": [
    "from sklearn.cluster import DBSCAN"
   ]
  },
  {
   "cell_type": "code",
   "execution_count": null,
   "metadata": {},
   "outputs": [],
   "source": [
    "for e in [.35, .50, .75, ]:\n",
    "    db = DBSCAN(eps=e, min_samples=10).fit(xp)\n",
    "    labels = db.labels_\n",
    "    fig = plt.figure(figsize=(5, 5))\n",
    "    sns.scatterplot(xp.pc1, xp.pc2, hue=[\"cluster-{}\".format(i) for i in labels])"
   ]
  },
  {
   "cell_type": "markdown",
   "metadata": {},
   "source": [
    "### correspondence analisys"
   ]
  },
  {
   "cell_type": "code",
   "execution_count": null,
   "metadata": {},
   "outputs": [],
   "source": [
    "import prince"
   ]
  },
  {
   "cell_type": "code",
   "execution_count": null,
   "metadata": {},
   "outputs": [],
   "source": [
    "features = ['appearedTimeOfDay', 'weatherIcon', 'log_pd', 'closeToWater']\n",
    "interesting_types = [f'{t}_y' for t in ['Fire', 'Water', 'Flying', 'Ice', 'Dragon', ]]\n",
    "for f in features:\n",
    "    print(set(df[f]))"
   ]
  },
  {
   "cell_type": "code",
   "execution_count": null,
   "metadata": {},
   "outputs": [],
   "source": [
    "mca = prince.MCA()\n",
    "\n",
    "X = df[features+interesting_types].astype(str)\n",
    "r = mca.fit(X) # same as calling ca.fs_r(1)\n",
    "q = mca.transform(X) # same as calling ca.fs_r_sup(df_new) for *another* test set."
   ]
  },
  {
   "cell_type": "code",
   "execution_count": null,
   "metadata": {},
   "outputs": [],
   "source": [
    "ax = mca.plot_coordinates(\n",
    "     X=X,\n",
    "     ax=None,\n",
    "     figsize=(15, 15),\n",
    "     show_row_points=False,\n",
    "     row_points_size=5,\n",
    "     show_row_labels=False,\n",
    "     show_column_points=True,\n",
    "     column_points_size=35,\n",
    "     show_column_labels=True,\n",
    "     legend_n_cols=1\n",
    ")"
   ]
  },
  {
   "cell_type": "markdown",
   "metadata": {},
   "source": [
    "### canonical correlation"
   ]
  },
  {
   "cell_type": "code",
   "execution_count": null,
   "metadata": {},
   "outputs": [],
   "source": [
    "from sklearn.cross_decomposition import CCA"
   ]
  },
  {
   "cell_type": "code",
   "execution_count": null,
   "metadata": {},
   "outputs": [],
   "source": [
    "'''from collections import defaultdict\n",
    "d = defaultdict(lambda: 0)\n",
    "for i in df.pokestopDistanceKm:\n",
    "    try:\n",
    "        float(i)\n",
    "    except:\n",
    "        d[i]+=1\n",
    "d'''"
   ]
  },
  {
   "cell_type": "code",
   "execution_count": null,
   "metadata": {},
   "outputs": [],
   "source": [
    "# Split the data in X and Y\n",
    "X = df[czone]\n",
    "Y = df[cstat+interesting_types]\n",
    "\n",
    "# Instantiate the Canonical Correlation Analysis with 2 components\n",
    "my_cca = CCA(n_components=2)\n",
    "\n",
    "# Fit the model\n",
    "my_cca.fit(X, Y)"
   ]
  },
  {
   "cell_type": "code",
   "execution_count": null,
   "metadata": {},
   "outputs": [],
   "source": [
    "label_list = list(X.columns) + list(Y.columns)\n",
    "color_list = ['blue']*len(X.columns)+['red']*len(Y.columns)\n",
    "\n",
    "for i in range(len(label_list)):\n",
    "    if label_list[i].endswith('_x'):\n",
    "        color_list[i] = 'darkorange'\n",
    "    if label_list[i].endswith('_y'):\n",
    "        color_list[i] = 'green'"
   ]
  },
  {
   "cell_type": "code",
   "execution_count": null,
   "metadata": {},
   "outputs": [],
   "source": [
    "# Obtain the rotation matrices\n",
    "xrot = my_cca.x_rotations_\n",
    "yrot = my_cca.y_rotations_\n",
    "\n",
    "# Put them together in a numpy matrix\n",
    "xyrot = np.vstack((xrot,yrot))\n",
    "\n",
    "nvariables = xyrot.shape[0]\n",
    "\n",
    "plt.figure(figsize=(20, 16))\n",
    "plt.xlim((-0.75,0.99))\n",
    "plt.ylim((-0.50,0.99))\n",
    "\n",
    "# Plot an arrow and a text label for each variable\n",
    "for i in range(nvariables):\n",
    "  x = xyrot[i,0]\n",
    "  y = xyrot[i,1]\n",
    "\n",
    "  plt.arrow(0,0,x,y)\n",
    "  plt.text(x,y, label_list[i], color=color_list[i])\n",
    "\n",
    "plt.show()"
   ]
  },
  {
   "cell_type": "markdown",
   "metadata": {},
   "source": [
    "#### logistic"
   ]
  },
  {
   "cell_type": "code",
   "execution_count": null,
   "metadata": {},
   "outputs": [],
   "source": [
    "from sklearn.linear_model import LogisticRegression\n",
    "from sklearn import metrics"
   ]
  },
  {
   "cell_type": "code",
   "execution_count": null,
   "metadata": {},
   "outputs": [],
   "source": [
    "x_train, x_test, y_train, y_test = train_test_split(x, y, test_size=0.4, random_state=4)\n",
    "print(x_train.shape)\n",
    "print(x_test.shape)\n",
    "print(y_train.shape)\n",
    "print(y_test.shape)\n",
    "\n",
    "logreg = LogisticRegression()\n",
    "logreg.fit(x_train, y_train)\n",
    "\n",
    "y_pred = logreg.predict(x_test)\n",
    "print('log: ', metrics.accuracy_score(y_test, y_pred))"
   ]
  },
  {
   "cell_type": "code",
   "execution_count": null,
   "metadata": {},
   "outputs": [],
   "source": [
    "#pal = dict(True=\"#6495ED\", False=\"#F08080\")\n",
    "\n",
    "# Show the survival probability as a function of age and sex\n",
    "g = sns.lmplot(x=\"gymDistanceKm\", y=\"Dragon_y\", data=df, y_jitter=.02, logistic=True, truncate=False)\n",
    "#g.set(xlim=(0, 80), ylim=(-.05, 1.05))"
   ]
  }
 ],
 "metadata": {
  "interpreter": {
   "hash": "722fd6135b0f39ce06db8ce76b630f74d7a4c562f43426e250f0f54d0764873d"
  },
  "kernelspec": {
   "display_name": "Python 3.10.1 64-bit ('panzi': venv)",
   "language": "python",
   "name": "python3"
  },
  "language_info": {
   "codemirror_mode": {
    "name": "ipython",
    "version": 3
   },
   "file_extension": ".py",
   "mimetype": "text/x-python",
   "name": "python",
   "nbconvert_exporter": "python",
   "pygments_lexer": "ipython3",
   "version": "3.9.9"
  },
  "orig_nbformat": 4
 },
 "nbformat": 4,
 "nbformat_minor": 2
}
